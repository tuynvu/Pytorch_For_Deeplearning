{
 "cells": [
  {
   "attachments": {},
   "cell_type": "markdown",
   "metadata": {},
   "source": [
    "# Import Pytorch"
   ]
  },
  {
   "cell_type": "code",
   "execution_count": 1,
   "metadata": {
    "ExecuteTime": {
     "end_time": "2023-09-07T05:11:57.935501244Z",
     "start_time": "2023-09-07T05:11:55.938130074Z"
    }
   },
   "outputs": [],
   "source": [
    "import torch"
   ]
  },
  {
   "cell_type": "code",
   "execution_count": 2,
   "metadata": {
    "ExecuteTime": {
     "end_time": "2023-09-07T05:11:57.952803785Z",
     "start_time": "2023-09-07T05:11:57.926936289Z"
    }
   },
   "outputs": [
    {
     "data": {
      "text/plain": "'1.13.1+cu117'"
     },
     "execution_count": 2,
     "metadata": {},
     "output_type": "execute_result"
    }
   ],
   "source": [
    "torch.__version__"
   ]
  },
  {
   "attachments": {},
   "cell_type": "markdown",
   "metadata": {},
   "source": [
    "# Tensor"
   ]
  },
  {
   "cell_type": "code",
   "execution_count": 3,
   "metadata": {
    "ExecuteTime": {
     "end_time": "2023-09-07T05:11:58.066415856Z",
     "start_time": "2023-09-07T05:11:57.933469965Z"
    }
   },
   "outputs": [
    {
     "name": "stdout",
     "output_type": "stream",
     "text": [
      "(620, 600, 3)\n"
     ]
    }
   ],
   "source": [
    "import cv2\n",
    "img = cv2.imread(\"./Utils/RGB.png\")\n",
    "print(img.shape)"
   ]
  },
  {
   "cell_type": "code",
   "execution_count": 4,
   "metadata": {
    "ExecuteTime": {
     "end_time": "2023-09-07T05:11:58.141471143Z",
     "start_time": "2023-09-07T05:11:58.057639904Z"
    }
   },
   "outputs": [
    {
     "data": {
      "text/plain": "tensor([[1, 2, 3]])"
     },
     "execution_count": 4,
     "metadata": {},
     "output_type": "execute_result"
    }
   ],
   "source": [
    "a = torch.tensor([[1,2 , 3]])\n",
    "a"
   ]
  },
  {
   "cell_type": "code",
   "execution_count": 5,
   "metadata": {
    "ExecuteTime": {
     "end_time": "2023-09-07T05:11:58.142584329Z",
     "start_time": "2023-09-07T05:11:58.077594433Z"
    }
   },
   "outputs": [
    {
     "data": {
      "text/plain": "2"
     },
     "execution_count": 5,
     "metadata": {},
     "output_type": "execute_result"
    }
   ],
   "source": [
    "a.ndim"
   ]
  },
  {
   "cell_type": "code",
   "execution_count": 6,
   "metadata": {
    "ExecuteTime": {
     "end_time": "2023-09-07T05:11:58.285094788Z",
     "start_time": "2023-09-07T05:11:58.083826245Z"
    }
   },
   "outputs": [
    {
     "data": {
      "text/plain": "1"
     },
     "execution_count": 6,
     "metadata": {},
     "output_type": "execute_result"
    }
   ],
   "source": [
    "a[0][0].item()"
   ]
  },
  {
   "cell_type": "code",
   "execution_count": 7,
   "metadata": {
    "ExecuteTime": {
     "end_time": "2023-09-07T05:11:58.285622491Z",
     "start_time": "2023-09-07T05:11:58.130870856Z"
    }
   },
   "outputs": [
    {
     "data": {
      "text/plain": "torch.Size([1, 3])"
     },
     "execution_count": 7,
     "metadata": {},
     "output_type": "execute_result"
    }
   ],
   "source": [
    "a.shape"
   ]
  },
  {
   "cell_type": "code",
   "execution_count": 8,
   "metadata": {
    "ExecuteTime": {
     "end_time": "2023-09-07T05:11:58.285814609Z",
     "start_time": "2023-09-07T05:11:58.131602808Z"
    }
   },
   "outputs": [],
   "source": [
    "TENSOR = torch.tensor([[[1, 2, 3],\n",
    "                        [3, 6, 9],\n",
    "                        [2, 4, 5]]])"
   ]
  },
  {
   "cell_type": "code",
   "execution_count": 9,
   "metadata": {
    "ExecuteTime": {
     "end_time": "2023-09-07T05:11:58.334220434Z",
     "start_time": "2023-09-07T05:11:58.132394047Z"
    }
   },
   "outputs": [
    {
     "data": {
      "text/plain": "torch.Size([1, 3, 3])"
     },
     "execution_count": 9,
     "metadata": {},
     "output_type": "execute_result"
    }
   ],
   "source": [
    "TENSOR.shape"
   ]
  },
  {
   "attachments": {},
   "cell_type": "markdown",
   "metadata": {},
   "source": [
    "# Random"
   ]
  },
  {
   "cell_type": "code",
   "execution_count": 10,
   "metadata": {
    "ExecuteTime": {
     "end_time": "2023-09-07T05:11:58.338317458Z",
     "start_time": "2023-09-07T05:11:58.178090461Z"
    }
   },
   "outputs": [
    {
     "data": {
      "text/plain": "tensor([[0.5819, 0.1745, 0.1665, 0.7567],\n        [0.6523, 0.9983, 0.4663, 0.6593],\n        [0.0764, 0.2052, 0.3189, 0.1647]])"
     },
     "execution_count": 10,
     "metadata": {},
     "output_type": "execute_result"
    }
   ],
   "source": [
    "rd = torch.rand(size=(3,4))\n",
    "rd"
   ]
  },
  {
   "attachments": {},
   "cell_type": "markdown",
   "metadata": {},
   "source": [
    "# Zeros and Ones"
   ]
  },
  {
   "cell_type": "code",
   "execution_count": 11,
   "metadata": {
    "ExecuteTime": {
     "end_time": "2023-09-07T05:11:58.341533302Z",
     "start_time": "2023-09-07T05:11:58.178928190Z"
    }
   },
   "outputs": [
    {
     "data": {
      "text/plain": "tensor([[0., 0., 0., 0.],\n        [0., 0., 0., 0.],\n        [0., 0., 0., 0.]])"
     },
     "execution_count": 11,
     "metadata": {},
     "output_type": "execute_result"
    }
   ],
   "source": [
    "zr = torch.zeros(size=(3, 4))\n",
    "zr"
   ]
  },
  {
   "cell_type": "code",
   "execution_count": 12,
   "metadata": {
    "ExecuteTime": {
     "end_time": "2023-09-07T05:11:58.351728990Z",
     "start_time": "2023-09-07T05:11:58.180621999Z"
    }
   },
   "outputs": [
    {
     "data": {
      "text/plain": "tensor([[1., 1., 1., 1.],\n        [1., 1., 1., 1.],\n        [1., 1., 1., 1.]])"
     },
     "execution_count": 12,
     "metadata": {},
     "output_type": "execute_result"
    }
   ],
   "source": [
    "on = torch.ones(size=(3, 4))\n",
    "on"
   ]
  },
  {
   "cell_type": "code",
   "execution_count": 13,
   "metadata": {
    "ExecuteTime": {
     "end_time": "2023-09-07T05:11:58.356182666Z",
     "start_time": "2023-09-07T05:11:58.226679749Z"
    }
   },
   "outputs": [
    {
     "data": {
      "text/plain": "torch.float32"
     },
     "execution_count": 13,
     "metadata": {},
     "output_type": "execute_result"
    }
   ],
   "source": [
    "on.dtype"
   ]
  },
  {
   "cell_type": "code",
   "execution_count": 14,
   "metadata": {
    "ExecuteTime": {
     "end_time": "2023-09-07T05:11:58.359934411Z",
     "start_time": "2023-09-07T05:11:58.234758036Z"
    }
   },
   "outputs": [
    {
     "data": {
      "text/plain": "tensor([[0, 0, 0, 0],\n        [0, 0, 0, 0],\n        [0, 0, 0, 0]], dtype=torch.int32)"
     },
     "execution_count": 14,
     "metadata": {},
     "output_type": "execute_result"
    }
   ],
   "source": [
    "zr = torch.zeros(size=(3, 4), dtype=torch.int32)\n",
    "zr"
   ]
  },
  {
   "attachments": {},
   "cell_type": "markdown",
   "metadata": {},
   "source": [
    "# Tensor arange and tensor like"
   ]
  },
  {
   "cell_type": "code",
   "execution_count": 15,
   "metadata": {
    "ExecuteTime": {
     "end_time": "2023-09-07T05:11:58.381070808Z",
     "start_time": "2023-09-07T05:11:58.265936321Z"
    }
   },
   "outputs": [
    {
     "data": {
      "text/plain": "tensor([1, 3, 5])"
     },
     "execution_count": 15,
     "metadata": {},
     "output_type": "execute_result"
    }
   ],
   "source": [
    "ar = torch.arange(1, 6, 2) # (start, end, step)\n",
    "ar"
   ]
  },
  {
   "cell_type": "code",
   "execution_count": 16,
   "metadata": {
    "ExecuteTime": {
     "end_time": "2023-09-07T05:11:58.391186661Z",
     "start_time": "2023-09-07T05:11:58.279870510Z"
    }
   },
   "outputs": [
    {
     "data": {
      "text/plain": "tensor([1, 1, 1])"
     },
     "execution_count": 16,
     "metadata": {},
     "output_type": "execute_result"
    }
   ],
   "source": [
    "tensor_like_ar = torch.full_like(ar, 1)\n",
    "tensor_like_ar"
   ]
  },
  {
   "cell_type": "code",
   "execution_count": 17,
   "metadata": {
    "ExecuteTime": {
     "end_time": "2023-09-07T05:11:58.398751246Z",
     "start_time": "2023-09-07T05:11:58.284605150Z"
    }
   },
   "outputs": [
    {
     "data": {
      "text/plain": "tensor([1, 1, 1])"
     },
     "execution_count": 17,
     "metadata": {},
     "output_type": "execute_result"
    }
   ],
   "source": [
    "ones_ar = torch.ones_like(ar)\n",
    "ones_ar"
   ]
  },
  {
   "attachments": {},
   "cell_type": "markdown",
   "metadata": {},
   "source": [
    "# Kiểu dữ liệu"
   ]
  },
  {
   "cell_type": "code",
   "execution_count": 18,
   "metadata": {
    "ExecuteTime": {
     "end_time": "2023-09-07T05:11:58.399440621Z",
     "start_time": "2023-09-07T05:11:58.293625434Z"
    }
   },
   "outputs": [
    {
     "data": {
      "text/plain": "(torch.Size([3]), torch.float32, device(type='cpu'))"
     },
     "execution_count": 18,
     "metadata": {},
     "output_type": "execute_result"
    }
   ],
   "source": [
    "# Default datatype for tensors is float32\n",
    "float_32_tensor = torch.tensor([3.0, 6.0, 9.0],\n",
    "                               dtype=None, # defaults to None, which is torch.float32 or whatever datatype is passed\n",
    "                               device=None, # defaults to None, which uses the default tensor type\n",
    "                               requires_grad=False) # if True, operations performed on the tensor are recorded \n",
    "\n",
    "float_32_tensor.shape, float_32_tensor.dtype, float_32_tensor.device"
   ]
  },
  {
   "cell_type": "code",
   "execution_count": 19,
   "metadata": {
    "ExecuteTime": {
     "end_time": "2023-09-07T05:11:58.792198048Z",
     "start_time": "2023-09-07T05:11:58.298270918Z"
    }
   },
   "outputs": [
    {
     "data": {
      "text/plain": "torch.float16"
     },
     "execution_count": 19,
     "metadata": {},
     "output_type": "execute_result"
    }
   ],
   "source": [
    "float_16_tensor = torch.tensor([3.0, 6.0, 9.0],\n",
    "                               dtype=torch.float16) # torch.half would also work\n",
    "\n",
    "float_16_tensor.dtype"
   ]
  },
  {
   "cell_type": "markdown",
   "source": [
    "# Lấy dữ liệu từ Tensor"
   ],
   "metadata": {
    "collapsed": false
   }
  },
  {
   "cell_type": "code",
   "execution_count": 20,
   "outputs": [],
   "source": [
    "rd_tensor = torch.rand(size=(3, 4))"
   ],
   "metadata": {
    "collapsed": false,
    "ExecuteTime": {
     "end_time": "2023-09-07T05:11:58.792774136Z",
     "start_time": "2023-09-07T05:11:58.342761925Z"
    }
   }
  },
  {
   "cell_type": "code",
   "execution_count": 21,
   "outputs": [
    {
     "data": {
      "text/plain": "tensor([[0.3019, 0.8431, 0.3676, 0.0192],\n        [0.3637, 0.0339, 0.5577, 0.7541],\n        [0.1136, 0.1986, 0.1396, 0.5054]])"
     },
     "execution_count": 21,
     "metadata": {},
     "output_type": "execute_result"
    }
   ],
   "source": [
    "rd_tensor"
   ],
   "metadata": {
    "collapsed": false,
    "ExecuteTime": {
     "end_time": "2023-09-07T05:11:58.793455652Z",
     "start_time": "2023-09-07T05:11:58.343433426Z"
    }
   }
  },
  {
   "cell_type": "code",
   "execution_count": 22,
   "outputs": [
    {
     "data": {
      "text/plain": "torch.float32"
     },
     "execution_count": 22,
     "metadata": {},
     "output_type": "execute_result"
    }
   ],
   "source": [
    "rd_tensor.shape;\n",
    "rd_tensor.device\n",
    "rd_tensor.dtype"
   ],
   "metadata": {
    "collapsed": false,
    "ExecuteTime": {
     "end_time": "2023-09-07T05:11:58.793885026Z",
     "start_time": "2023-09-07T05:11:58.343720364Z"
    }
   }
  },
  {
   "cell_type": "markdown",
   "source": [
    "# Thao tác cơ bản với tensor - Toán tử với tensor"
   ],
   "metadata": {
    "collapsed": false
   }
  },
  {
   "cell_type": "code",
   "execution_count": 23,
   "outputs": [
    {
     "data": {
      "text/plain": "(tensor([[0.6801, 0.4402, 0.8978]]), tensor([[0.3695, 0.9948, 0.9506]]))"
     },
     "execution_count": 23,
     "metadata": {},
     "output_type": "execute_result"
    }
   ],
   "source": [
    "tensor1 = torch.rand((1, 3))\n",
    "tensor2 = torch.rand((1, 3))\n",
    "tensor1, tensor2"
   ],
   "metadata": {
    "collapsed": false,
    "ExecuteTime": {
     "end_time": "2023-09-07T05:11:58.794275418Z",
     "start_time": "2023-09-07T05:11:58.343996812Z"
    }
   }
  },
  {
   "cell_type": "markdown",
   "source": [
    "## a, Toán tử cơ bản: + - * /"
   ],
   "metadata": {
    "collapsed": false
   }
  },
  {
   "cell_type": "markdown",
   "source": [
    "### Thao tác 1 tensor với 1 số"
   ],
   "metadata": {
    "collapsed": false
   }
  },
  {
   "cell_type": "code",
   "execution_count": 24,
   "outputs": [
    {
     "data": {
      "text/plain": "tensor([[1.6801, 1.4402, 1.8978]])"
     },
     "execution_count": 24,
     "metadata": {},
     "output_type": "execute_result"
    }
   ],
   "source": [
    "tensor1 + 1"
   ],
   "metadata": {
    "collapsed": false,
    "ExecuteTime": {
     "end_time": "2023-09-07T05:11:58.794695244Z",
     "start_time": "2023-09-07T05:11:58.344285866Z"
    }
   }
  },
  {
   "cell_type": "code",
   "execution_count": 25,
   "outputs": [
    {
     "data": {
      "text/plain": "tensor([[-0.3199, -0.5598, -0.1022]])"
     },
     "execution_count": 25,
     "metadata": {},
     "output_type": "execute_result"
    }
   ],
   "source": [
    "tensor1 - 1"
   ],
   "metadata": {
    "collapsed": false,
    "ExecuteTime": {
     "end_time": "2023-09-07T05:11:58.829079312Z",
     "start_time": "2023-09-07T05:11:58.344878725Z"
    }
   }
  },
  {
   "cell_type": "code",
   "execution_count": 26,
   "outputs": [
    {
     "data": {
      "text/plain": "tensor([[1.3602, 0.8804, 1.7955]])"
     },
     "execution_count": 26,
     "metadata": {},
     "output_type": "execute_result"
    }
   ],
   "source": [
    "tensor1 * 2"
   ],
   "metadata": {
    "collapsed": false,
    "ExecuteTime": {
     "end_time": "2023-09-07T05:11:58.829669429Z",
     "start_time": "2023-09-07T05:11:58.385257592Z"
    }
   }
  },
  {
   "cell_type": "code",
   "execution_count": 27,
   "outputs": [
    {
     "data": {
      "text/plain": "tensor([[0.3400, 0.2201, 0.4489]])"
     },
     "execution_count": 27,
     "metadata": {},
     "output_type": "execute_result"
    }
   ],
   "source": [
    "tensor1 / 2"
   ],
   "metadata": {
    "collapsed": false,
    "ExecuteTime": {
     "end_time": "2023-09-07T05:11:58.830039263Z",
     "start_time": "2023-09-07T05:11:58.385771281Z"
    }
   }
  },
  {
   "cell_type": "markdown",
   "source": [
    "### Thao tác 1 tensor với 1 tensor khác"
   ],
   "metadata": {
    "collapsed": false
   }
  },
  {
   "cell_type": "code",
   "execution_count": 28,
   "outputs": [
    {
     "data": {
      "text/plain": "tensor([[1.0496, 1.4350, 1.8484]])"
     },
     "execution_count": 28,
     "metadata": {},
     "output_type": "execute_result"
    }
   ],
   "source": [
    "tensor1 + tensor2"
   ],
   "metadata": {
    "collapsed": false,
    "ExecuteTime": {
     "end_time": "2023-09-07T05:11:58.831148806Z",
     "start_time": "2023-09-07T05:11:58.389075717Z"
    }
   }
  },
  {
   "cell_type": "code",
   "execution_count": 29,
   "outputs": [
    {
     "data": {
      "text/plain": "tensor([[ 0.3106, -0.5546, -0.0528]])"
     },
     "execution_count": 29,
     "metadata": {},
     "output_type": "execute_result"
    }
   ],
   "source": [
    "tensor1 - tensor2"
   ],
   "metadata": {
    "collapsed": false,
    "ExecuteTime": {
     "end_time": "2023-09-07T05:11:58.837962289Z",
     "start_time": "2023-09-07T05:11:58.392809884Z"
    }
   }
  },
  {
   "cell_type": "code",
   "execution_count": 30,
   "outputs": [
    {
     "data": {
      "text/plain": "tensor([[0.2513, 0.4379, 0.8534]])"
     },
     "execution_count": 30,
     "metadata": {},
     "output_type": "execute_result"
    }
   ],
   "source": [
    "tensor1 * tensor2"
   ],
   "metadata": {
    "collapsed": false,
    "ExecuteTime": {
     "end_time": "2023-09-07T05:11:58.838516496Z",
     "start_time": "2023-09-07T05:11:58.439027394Z"
    }
   }
  },
  {
   "cell_type": "code",
   "execution_count": 31,
   "outputs": [
    {
     "data": {
      "text/plain": "tensor([[1.8406, 0.4425, 0.9444]])"
     },
     "execution_count": 31,
     "metadata": {},
     "output_type": "execute_result"
    }
   ],
   "source": [
    "tensor1 / tensor2"
   ],
   "metadata": {
    "collapsed": false,
    "ExecuteTime": {
     "end_time": "2023-09-07T05:11:58.838865435Z",
     "start_time": "2023-09-07T05:11:58.440304379Z"
    }
   }
  },
  {
   "cell_type": "code",
   "execution_count": 32,
   "outputs": [],
   "source": [
    "# torch.add()\n",
    "# torch.sub()\n",
    "# torch.multiply()\n",
    "# torch.divide()"
   ],
   "metadata": {
    "collapsed": false,
    "ExecuteTime": {
     "end_time": "2023-09-07T05:11:58.839012817Z",
     "start_time": "2023-09-07T05:11:58.441200734Z"
    }
   }
  },
  {
   "cell_type": "markdown",
   "source": [
    "## b, Nhân Matrix Tensor (toán tử @: trong numpy)"
   ],
   "metadata": {
    "collapsed": false
   }
  },
  {
   "cell_type": "code",
   "execution_count": 33,
   "outputs": [
    {
     "data": {
      "text/plain": "torch.Size([3])"
     },
     "execution_count": 33,
     "metadata": {},
     "output_type": "execute_result"
    }
   ],
   "source": [
    "tensor = torch.tensor([1, 2, 3])\n",
    "tensor.shape"
   ],
   "metadata": {
    "collapsed": false,
    "ExecuteTime": {
     "end_time": "2023-09-07T05:11:58.839294277Z",
     "start_time": "2023-09-07T05:11:58.441520502Z"
    }
   }
  },
  {
   "cell_type": "code",
   "execution_count": 34,
   "outputs": [
    {
     "data": {
      "text/plain": "tensor([1, 4, 9])"
     },
     "execution_count": 34,
     "metadata": {},
     "output_type": "execute_result"
    }
   ],
   "source": [
    "tensor * tensor"
   ],
   "metadata": {
    "collapsed": false,
    "ExecuteTime": {
     "end_time": "2023-09-07T05:11:58.839560991Z",
     "start_time": "2023-09-07T05:11:58.441763311Z"
    }
   }
  },
  {
   "cell_type": "code",
   "execution_count": 35,
   "outputs": [
    {
     "data": {
      "text/plain": "tensor(14)"
     },
     "execution_count": 35,
     "metadata": {},
     "output_type": "execute_result"
    }
   ],
   "source": [
    "torch.matmul(tensor, tensor)"
   ],
   "metadata": {
    "collapsed": false,
    "ExecuteTime": {
     "end_time": "2023-09-07T05:11:58.839839901Z",
     "start_time": "2023-09-07T05:11:58.442481895Z"
    }
   }
  },
  {
   "cell_type": "code",
   "execution_count": 36,
   "outputs": [
    {
     "data": {
      "text/plain": "tensor(14)"
     },
     "execution_count": 36,
     "metadata": {},
     "output_type": "execute_result"
    }
   ],
   "source": [
    "tensor @ tensor"
   ],
   "metadata": {
    "collapsed": false,
    "ExecuteTime": {
     "end_time": "2023-09-07T05:11:58.861516829Z",
     "start_time": "2023-09-07T05:11:58.485715960Z"
    }
   }
  },
  {
   "cell_type": "code",
   "execution_count": 37,
   "outputs": [
    {
     "name": "stdout",
     "output_type": "stream",
     "text": [
      "CPU times: user 0 ns, sys: 5.25 ms, total: 5.25 ms\n",
      "Wall time: 4.95 ms\n"
     ]
    },
    {
     "data": {
      "text/plain": "tensor(14)"
     },
     "execution_count": 37,
     "metadata": {},
     "output_type": "execute_result"
    }
   ],
   "source": [
    "%%time\n",
    "value = 0\n",
    "for i in range(len(tensor)):\n",
    "  value += tensor[i] * tensor[i]\n",
    "value"
   ],
   "metadata": {
    "collapsed": false,
    "ExecuteTime": {
     "end_time": "2023-09-07T05:11:58.867609615Z",
     "start_time": "2023-09-07T05:11:58.486688763Z"
    }
   }
  },
  {
   "cell_type": "code",
   "execution_count": 38,
   "outputs": [
    {
     "name": "stdout",
     "output_type": "stream",
     "text": [
      "CPU times: user 171 µs, sys: 74 µs, total: 245 µs\n",
      "Wall time: 304 µs\n"
     ]
    },
    {
     "data": {
      "text/plain": "tensor(14)"
     },
     "execution_count": 38,
     "metadata": {},
     "output_type": "execute_result"
    }
   ],
   "source": [
    "%%time\n",
    "torch.matmul(tensor, tensor)"
   ],
   "metadata": {
    "collapsed": false,
    "ExecuteTime": {
     "end_time": "2023-09-07T05:11:58.874986165Z",
     "start_time": "2023-09-07T05:11:58.491734001Z"
    }
   }
  },
  {
   "cell_type": "markdown",
   "source": [
    "# Một số lỗi chung phổ biến trong DL:  lỗi shape"
   ],
   "metadata": {
    "collapsed": false
   }
  },
  {
   "cell_type": "code",
   "execution_count": 39,
   "outputs": [],
   "source": [
    "tensor_A = torch.tensor([[1, 2],\n",
    "                         [3, 4],\n",
    "                         [5, 6]], dtype=torch.float32)\n",
    "\n",
    "tensor_B = torch.tensor([[7, 10],\n",
    "                         [8, 11], \n",
    "                         [9, 12]], dtype=torch.float32)"
   ],
   "metadata": {
    "collapsed": false,
    "ExecuteTime": {
     "end_time": "2023-09-07T05:11:58.878823741Z",
     "start_time": "2023-09-07T05:11:58.532674214Z"
    }
   }
  },
  {
   "cell_type": "code",
   "execution_count": 40,
   "outputs": [
    {
     "data": {
      "text/plain": "tensor([[1., 3., 5.],\n        [2., 4., 6.]])"
     },
     "execution_count": 40,
     "metadata": {},
     "output_type": "execute_result"
    }
   ],
   "source": [
    "# error vì không đúng chiều\n",
    "# tensor_A @ tensor_B\n",
    "# sửa đúng chiều\n",
    "# tensor_A.T @ tensor_B\n",
    "\n",
    "torch.transpose(tensor_A, 1, -2)"
   ],
   "metadata": {
    "collapsed": false,
    "ExecuteTime": {
     "end_time": "2023-09-07T05:11:58.879796350Z",
     "start_time": "2023-09-07T05:11:58.532971899Z"
    }
   }
  },
  {
   "cell_type": "markdown",
   "source": [
    "# Lớp torch.nn.Linear()"
   ],
   "metadata": {
    "collapsed": false
   }
  },
  {
   "cell_type": "code",
   "execution_count": 41,
   "outputs": [
    {
     "name": "stdout",
     "output_type": "stream",
     "text": [
      "Parameter containing:\n",
      "tensor([[ 0.5406,  0.5869],\n",
      "        [-0.1657,  0.6496],\n",
      "        [-0.1549,  0.1427],\n",
      "        [-0.3443,  0.4153],\n",
      "        [ 0.6233, -0.5188],\n",
      "        [ 0.6146,  0.1323]], requires_grad=True)\n",
      "Input shape: torch.Size([3, 2])\n",
      "\n",
      "Output:\n",
      "tensor([[2.2368, 1.2292, 0.4714, 0.3864, 0.1309, 0.9838],\n",
      "        [4.4919, 2.1970, 0.4469, 0.5285, 0.3401, 2.4777],\n",
      "        [6.7469, 3.1648, 0.4224, 0.6705, 0.5493, 3.9716]],\n",
      "       grad_fn=<AddmmBackward0>)\n",
      "\n",
      "Output shape: torch.Size([3, 6])\n"
     ]
    }
   ],
   "source": [
    "torch.manual_seed(42)\n",
    "linear = torch.nn.Linear(in_features=2, out_features=6)\n",
    "print(linear.weight)\n",
    "x = tensor_A\n",
    "output = linear(x)\n",
    "print(f\"Input shape: {x.shape}\\n\")\n",
    "print(f\"Output:\\n{output}\\n\\nOutput shape: {output.shape}\")"
   ],
   "metadata": {
    "collapsed": false,
    "ExecuteTime": {
     "end_time": "2023-09-07T05:11:58.898746522Z",
     "start_time": "2023-09-07T05:11:58.576594253Z"
    }
   }
  },
  {
   "cell_type": "markdown",
   "source": [
    "# Tìm min, max, mean, std, ....."
   ],
   "metadata": {
    "collapsed": false
   }
  },
  {
   "cell_type": "code",
   "execution_count": 42,
   "outputs": [],
   "source": [
    "x = torch.arange(0, 10, 1)"
   ],
   "metadata": {
    "collapsed": false,
    "ExecuteTime": {
     "end_time": "2023-09-07T05:11:58.899427684Z",
     "start_time": "2023-09-07T05:11:58.576862477Z"
    }
   }
  },
  {
   "cell_type": "code",
   "execution_count": 43,
   "outputs": [
    {
     "name": "stdout",
     "output_type": "stream",
     "text": [
      "Minimum: 0\n",
      "Maximum: 9\n",
      "Mean: 4.5\n",
      "Sum: 45\n"
     ]
    }
   ],
   "source": [
    "print(f\"Minimum: {x.min()}\")\n",
    "print(f\"Maximum: {x.max()}\")\n",
    "# print(f\"Mean: {x.mean()}\") # this will error\n",
    "print(f\"Mean: {x.type(torch.float32).mean()}\") # won't work without float datatype\n",
    "print(f\"Sum: {x.sum()}\")"
   ],
   "metadata": {
    "collapsed": false,
    "ExecuteTime": {
     "end_time": "2023-09-07T05:11:58.900014292Z",
     "start_time": "2023-09-07T05:11:58.576961496Z"
    }
   }
  },
  {
   "cell_type": "code",
   "execution_count": 44,
   "outputs": [
    {
     "data": {
      "text/plain": "(tensor(9), tensor(0), tensor(4.5000), tensor(45))"
     },
     "execution_count": 44,
     "metadata": {},
     "output_type": "execute_result"
    }
   ],
   "source": [
    "torch.max(x), torch.min(x), torch.mean(x.type(torch.float32)), torch.sum(x)"
   ],
   "metadata": {
    "collapsed": false,
    "ExecuteTime": {
     "end_time": "2023-09-07T05:11:58.900569577Z",
     "start_time": "2023-09-07T05:11:58.577065292Z"
    }
   }
  },
  {
   "cell_type": "markdown",
   "source": [
    "# Vị trí min/max"
   ],
   "metadata": {
    "collapsed": false
   }
  },
  {
   "cell_type": "code",
   "execution_count": 45,
   "outputs": [],
   "source": [
    "tensor = torch.arange(10)"
   ],
   "metadata": {
    "collapsed": false,
    "ExecuteTime": {
     "end_time": "2023-09-07T05:33:50.581338205Z",
     "start_time": "2023-09-07T05:33:50.539173830Z"
    }
   }
  },
  {
   "cell_type": "code",
   "execution_count": 47,
   "outputs": [
    {
     "name": "stdout",
     "output_type": "stream",
     "text": [
      "tensor: tensor([0, 1, 2, 3, 4, 5, 6, 7, 8, 9])\n",
      "index min: 0\n",
      "index max: 9\n"
     ]
    }
   ],
   "source": [
    "print(\"tensor:\", tensor)\n",
    "print(\"index min:\", tensor.argmin().item())\n",
    "print(\"index max:\", tensor.argmax().item())"
   ],
   "metadata": {
    "collapsed": false,
    "ExecuteTime": {
     "end_time": "2023-09-07T05:35:00.747312355Z",
     "start_time": "2023-09-07T05:35:00.729849620Z"
    }
   }
  },
  {
   "cell_type": "markdown",
   "source": [
    "# Thay đổi kiểu dữ liệu trong tensor"
   ],
   "metadata": {
    "collapsed": false
   }
  },
  {
   "cell_type": "code",
   "execution_count": 51,
   "outputs": [
    {
     "data": {
      "text/plain": "tensor([1, 2, 3], dtype=torch.int16)"
     },
     "execution_count": 51,
     "metadata": {},
     "output_type": "execute_result"
    }
   ],
   "source": [
    "tenInt16 = torch.tensor([1, 2, 3], dtype=torch.int16)\n",
    "tenInt16"
   ],
   "metadata": {
    "collapsed": false,
    "ExecuteTime": {
     "end_time": "2023-09-07T05:43:18.646019023Z",
     "start_time": "2023-09-07T05:43:18.620838272Z"
    }
   }
  },
  {
   "cell_type": "code",
   "execution_count": 54,
   "outputs": [
    {
     "data": {
      "text/plain": "torch.int64"
     },
     "execution_count": 54,
     "metadata": {},
     "output_type": "execute_result"
    }
   ],
   "source": [
    "tenInt16 = tenInt16.type(torch.int64)\n",
    "tenInt16.dtype"
   ],
   "metadata": {
    "collapsed": false,
    "ExecuteTime": {
     "end_time": "2023-09-07T05:44:07.798311180Z",
     "start_time": "2023-09-07T05:44:07.733821908Z"
    }
   }
  },
  {
   "cell_type": "markdown",
   "source": [
    "# Reshaping, stacking, squeezing, unsqueezing"
   ],
   "metadata": {
    "collapsed": false
   }
  },
  {
   "cell_type": "code",
   "execution_count": 55,
   "outputs": [
    {
     "data": {
      "text/plain": "tensor([0, 1, 2, 3, 4, 5, 6, 7, 8, 9])"
     },
     "execution_count": 55,
     "metadata": {},
     "output_type": "execute_result"
    }
   ],
   "source": [
    "# reshape\n",
    "ten = torch.arange(0, 10)\n",
    "ten"
   ],
   "metadata": {
    "collapsed": false,
    "ExecuteTime": {
     "end_time": "2023-09-07T06:13:15.538099196Z",
     "start_time": "2023-09-07T06:13:15.498077875Z"
    }
   }
  },
  {
   "cell_type": "code",
   "execution_count": 57,
   "outputs": [
    {
     "data": {
      "text/plain": "tensor([[0, 1, 2, 3, 4],\n        [5, 6, 7, 8, 9]])"
     },
     "execution_count": 57,
     "metadata": {},
     "output_type": "execute_result"
    }
   ],
   "source": [
    "ten.reshape((2,5))"
   ],
   "metadata": {
    "collapsed": false,
    "ExecuteTime": {
     "end_time": "2023-09-07T06:13:54.905936875Z",
     "start_time": "2023-09-07T06:13:54.901438247Z"
    }
   }
  },
  {
   "cell_type": "code",
   "execution_count": 58,
   "outputs": [
    {
     "data": {
      "text/plain": "tensor([[0, 1, 2, 3, 4],\n        [5, 6, 7, 8, 9]])"
     },
     "execution_count": 58,
     "metadata": {},
     "output_type": "execute_result"
    }
   ],
   "source": [
    "torch.reshape(ten, shape=(2, 5))"
   ],
   "metadata": {
    "collapsed": false,
    "ExecuteTime": {
     "end_time": "2023-09-07T06:14:16.024923960Z",
     "start_time": "2023-09-07T06:14:16.015198465Z"
    }
   }
  },
  {
   "cell_type": "code",
   "execution_count": 64,
   "outputs": [
    {
     "name": "stdout",
     "output_type": "stream",
     "text": [
      "tensor([[0, 1, 2, 3, 4],\n",
      "        [5, 6, 7, 8, 9]])\n"
     ]
    },
    {
     "data": {
      "text/plain": "tensor([[0, 1],\n        [2, 3],\n        [4, 5],\n        [6, 7],\n        [8, 9]])"
     },
     "execution_count": 64,
     "metadata": {},
     "output_type": "execute_result"
    }
   ],
   "source": [
    "# view\n",
    "print(ten.view(2, 5))\n",
    "torch.view_copy(ten, size=(5, 2))"
   ],
   "metadata": {
    "collapsed": false,
    "ExecuteTime": {
     "end_time": "2023-09-07T06:18:41.401261511Z",
     "start_time": "2023-09-07T06:18:41.358022403Z"
    }
   }
  },
  {
   "cell_type": "code",
   "execution_count": 79,
   "outputs": [
    {
     "name": "stdout",
     "output_type": "stream",
     "text": [
      "tensor([[0, 1, 2, 3, 4],\n",
      "        [5, 6, 7, 8, 9]])\n",
      "tensor([[10, 11, 12, 13, 14],\n",
      "        [15, 16, 17, 18, 19]])\n"
     ]
    },
    {
     "data": {
      "text/plain": "tensor([[[ 0,  1,  2,  3,  4],\n         [10, 11, 12, 13, 14]],\n\n        [[ 5,  6,  7,  8,  9],\n         [15, 16, 17, 18, 19]]])"
     },
     "execution_count": 79,
     "metadata": {},
     "output_type": "execute_result"
    }
   ],
   "source": [
    "# stack\n",
    "ten1 = torch.arange(10).reshape(2,5)\n",
    "ten2 = torch.arange(10, 20).reshape(2, 5)\n",
    "print(ten1)\n",
    "print(ten2)\n",
    "\n",
    "torch.stack((ten1, ten2), dim=1)"
   ],
   "metadata": {
    "collapsed": false,
    "ExecuteTime": {
     "end_time": "2023-09-07T06:26:47.960808272Z",
     "start_time": "2023-09-07T06:26:47.919361774Z"
    }
   }
  },
  {
   "cell_type": "code",
   "execution_count": 80,
   "outputs": [
    {
     "data": {
      "text/plain": "tensor([0, 1, 2, 3, 4, 5, 6, 7, 8, 9])"
     },
     "execution_count": 80,
     "metadata": {},
     "output_type": "execute_result"
    }
   ],
   "source": [
    "# squeeze\n",
    "ten "
   ],
   "metadata": {
    "collapsed": false,
    "ExecuteTime": {
     "end_time": "2023-09-07T06:28:06.057601950Z",
     "start_time": "2023-09-07T06:28:06.039812772Z"
    }
   }
  },
  {
   "cell_type": "code",
   "execution_count": 87,
   "outputs": [
    {
     "name": "stdout",
     "output_type": "stream",
     "text": [
      "tensor([[0],\n",
      "        [1],\n",
      "        [2],\n",
      "        [3],\n",
      "        [4],\n",
      "        [5],\n",
      "        [6],\n",
      "        [7],\n",
      "        [8],\n",
      "        [9]])\n",
      "torch.Size([10, 1])\n",
      "tensor([0, 1, 2, 3, 4, 5, 6, 7, 8, 9])\n",
      "torch.Size([10])\n"
     ]
    }
   ],
   "source": [
    "a = ten.reshape(10, 1)\n",
    "print(a)\n",
    "print(a.shape)\n",
    "b = a.squeeze()\n",
    "print(b)\n",
    "print(b.shape)"
   ],
   "metadata": {
    "collapsed": false,
    "ExecuteTime": {
     "end_time": "2023-09-07T06:29:19.649045095Z",
     "start_time": "2023-09-07T06:29:19.634426643Z"
    }
   }
  },
  {
   "cell_type": "code",
   "execution_count": 96,
   "outputs": [
    {
     "data": {
      "text/plain": "tensor([[0],\n        [1],\n        [2],\n        [3],\n        [4],\n        [5],\n        [6],\n        [7],\n        [8],\n        [9]])"
     },
     "execution_count": 96,
     "metadata": {},
     "output_type": "execute_result"
    }
   ],
   "source": [
    "# unsqueeze\n",
    "b.unsqueeze(dim=1)"
   ],
   "metadata": {
    "collapsed": false,
    "ExecuteTime": {
     "end_time": "2023-09-07T06:35:27.020718333Z",
     "start_time": "2023-09-07T06:35:26.974093681Z"
    }
   }
  },
  {
   "cell_type": "code",
   "execution_count": 126,
   "outputs": [
    {
     "data": {
      "text/plain": "torch.Size([10, 1])"
     },
     "execution_count": 126,
     "metadata": {},
     "output_type": "execute_result"
    }
   ],
   "source": [
    "# permute\n",
    "a.permute(0, 1).shape"
   ],
   "metadata": {
    "collapsed": false,
    "ExecuteTime": {
     "end_time": "2023-09-07T06:47:25.449401186Z",
     "start_time": "2023-09-07T06:47:25.432560790Z"
    }
   }
  },
  {
   "cell_type": "markdown",
   "source": [
    "# Chỉ số, lấy dữ liệu tử tensor"
   ],
   "metadata": {
    "collapsed": false
   }
  },
  {
   "cell_type": "code",
   "execution_count": null,
   "outputs": [],
   "source": [],
   "metadata": {
    "collapsed": false
   }
  }
 ],
 "metadata": {
  "kernelspec": {
   "display_name": "base",
   "language": "python",
   "name": "python3"
  },
  "language_info": {
   "codemirror_mode": {
    "name": "ipython",
    "version": 3
   },
   "file_extension": ".py",
   "mimetype": "text/x-python",
   "name": "python",
   "nbconvert_exporter": "python",
   "pygments_lexer": "ipython3",
   "version": "3.10.12"
  },
  "orig_nbformat": 4
 },
 "nbformat": 4,
 "nbformat_minor": 2
}
