{
 "cells": [
  {
   "cell_type": "markdown",
   "source": [
    "# Pytorch quy trinh làm việc"
   ],
   "metadata": {
    "collapsed": false
   },
   "id": "a0b579db83e618cf"
  },
  {
   "cell_type": "markdown",
   "source": [
    "# Package"
   ],
   "metadata": {
    "collapsed": false
   },
   "id": "102130ac183f717a"
  },
  {
   "cell_type": "code",
   "execution_count": 2,
   "id": "initial_id",
   "metadata": {
    "collapsed": true,
    "ExecuteTime": {
     "end_time": "2023-09-13T13:45:50.600128485Z",
     "start_time": "2023-09-13T13:45:49.219507335Z"
    }
   },
   "outputs": [],
   "source": [
    "import torch "
   ]
  },
  {
   "cell_type": "markdown",
   "source": [
    "# Dữ liệu (data)"
   ],
   "metadata": {
    "collapsed": false
   },
   "id": "7745e5a553d24d88"
  },
  {
   "cell_type": "code",
   "execution_count": 3,
   "outputs": [
    {
     "data": {
      "text/plain": "(tensor([[1],\n         [2],\n         [3]]),\n tensor([[1.0000],\n         [1.4000],\n         [1.8000]]))"
     },
     "execution_count": 3,
     "metadata": {},
     "output_type": "execute_result"
    }
   ],
   "source": [
    "weight = 0.4\n",
    "bias = 0.6\n",
    "x = torch.arange(1, 4, 1).unsqueeze(1)\n",
    "y = weight * x  + bias\n",
    "x, y\n"
   ],
   "metadata": {
    "collapsed": false,
    "ExecuteTime": {
     "end_time": "2023-09-13T13:45:50.603499305Z",
     "start_time": "2023-09-13T13:45:50.597148487Z"
    }
   },
   "id": "6c2e66a9bac35ac9"
  },
  {
   "cell_type": "markdown",
   "source": [
    "# Phân chia dữ liệu để training và testing"
   ],
   "metadata": {
    "collapsed": false
   },
   "id": "c4a2835b13f9d713"
  },
  {
   "cell_type": "code",
   "execution_count": 4,
   "outputs": [
    {
     "data": {
      "text/plain": "(tensor([[0.0000],\n         [0.0200],\n         [0.0400],\n         [0.0600],\n         [0.0800],\n         [0.1000],\n         [0.1200],\n         [0.1400],\n         [0.1600],\n         [0.1800],\n         [0.2000],\n         [0.2200],\n         [0.2400],\n         [0.2600],\n         [0.2800],\n         [0.3000],\n         [0.3200],\n         [0.3400],\n         [0.3600],\n         [0.3800],\n         [0.4000],\n         [0.4200],\n         [0.4400],\n         [0.4600],\n         [0.4800],\n         [0.5000],\n         [0.5200],\n         [0.5400],\n         [0.5600],\n         [0.5800],\n         [0.6000],\n         [0.6200],\n         [0.6400],\n         [0.6600],\n         [0.6800],\n         [0.7000],\n         [0.7200],\n         [0.7400],\n         [0.7600],\n         [0.7800],\n         [0.8000],\n         [0.8200],\n         [0.8400],\n         [0.8600],\n         [0.8800],\n         [0.9000],\n         [0.9200],\n         [0.9400],\n         [0.9600],\n         [0.9800]]),\n tensor([[0.6000],\n         [0.6080],\n         [0.6160],\n         [0.6240],\n         [0.6320],\n         [0.6400],\n         [0.6480],\n         [0.6560],\n         [0.6640],\n         [0.6720],\n         [0.6800],\n         [0.6880],\n         [0.6960],\n         [0.7040],\n         [0.7120],\n         [0.7200],\n         [0.7280],\n         [0.7360],\n         [0.7440],\n         [0.7520],\n         [0.7600],\n         [0.7680],\n         [0.7760],\n         [0.7840],\n         [0.7920],\n         [0.8000],\n         [0.8080],\n         [0.8160],\n         [0.8240],\n         [0.8320],\n         [0.8400],\n         [0.8480],\n         [0.8560],\n         [0.8640],\n         [0.8720],\n         [0.8800],\n         [0.8880],\n         [0.8960],\n         [0.9040],\n         [0.9120],\n         [0.9200],\n         [0.9280],\n         [0.9360],\n         [0.9440],\n         [0.9520],\n         [0.9600],\n         [0.9680],\n         [0.9760],\n         [0.9840],\n         [0.9920]]))"
     },
     "execution_count": 4,
     "metadata": {},
     "output_type": "execute_result"
    }
   ],
   "source": [
    "weight = 0.4\n",
    "bias = 0.6\n",
    "x = torch.arange(0, 1, 0.02).unsqueeze(1)\n",
    "y = weight * x  + bias\n",
    "x, y"
   ],
   "metadata": {
    "collapsed": false,
    "ExecuteTime": {
     "end_time": "2023-09-13T13:45:50.609431661Z",
     "start_time": "2023-09-13T13:45:50.604567318Z"
    }
   },
   "id": "7855d3ddfeeb76a7"
  },
  {
   "cell_type": "code",
   "execution_count": 12,
   "outputs": [],
   "source": [
    "split_train = int(0.8 * len(x))\n",
    "train_x, test_x, train_y , test_y = x[:split_train], x[split_train:], y[:split_train], y[split_train:]\n",
    "\n",
    "len(train_x), len(train_y), len(test_x), len(test_x)\n",
    "predictions = weight * test_x + bias"
   ],
   "metadata": {
    "collapsed": false,
    "ExecuteTime": {
     "end_time": "2023-09-13T13:57:35.904222718Z",
     "start_time": "2023-09-13T13:57:35.857448108Z"
    }
   },
   "id": "ef43586b17f1434b"
  },
  {
   "cell_type": "code",
   "execution_count": 16,
   "outputs": [
    {
     "data": {
      "text/plain": "<Figure size 640x480 with 1 Axes>",
      "image/png": "[encoded data removed]"
     },
     "metadata": {},
     "output_type": "display_data"
    }
   ],
   "source": [
    "import matplotlib.pyplot as plt\n",
    "\n",
    "def plot_predict(data_x=train_x, data_y=train_y, data_test_x=test_x, data_test_y=test_y, predictions=None):\n",
    "    \n",
    "    plt.scatter(data_x, data_y, s=4, label=\"train\")\n",
    "    plt.scatter(data_test_x, data_test_y, s=20, label=\"test\")\n",
    "    if predictions is not None:\n",
    "        plt.scatter(data_test_x, predictions, s=4, label=\"predictions\")\n",
    "        \n",
    "    plt.legend()\n",
    "    plt.show()\n",
    "\n",
    "plot_predict(predictions=predictions)\n",
    "    "
   ],
   "metadata": {
    "collapsed": false,
    "ExecuteTime": {
     "end_time": "2023-09-13T13:58:21.766283633Z",
     "start_time": "2023-09-13T13:58:21.582178959Z"
    }
   },
   "id": "fc481c404d12a541"
  }
 ],
 "metadata": {
  "kernelspec": {
   "display_name": "Python 3",
   "language": "python",
   "name": "python3"
  },
  "language_info": {
   "codemirror_mode": {
    "name": "ipython",
    "version": 2
   },
   "file_extension": ".py",
   "mimetype": "text/x-python",
   "name": "python",
   "nbconvert_exporter": "python",
   "pygments_lexer": "ipython2",
   "version": "2.7.6"
  }
 },
 "nbformat": 4,
 "nbformat_minor": 5
}
