{
 "cells": [
  {
   "cell_type": "markdown",
   "source": [
    "# Pytorch quy trinh làm việc"
   ],
   "metadata": {
    "collapsed": false
   },
   "id": "a0b579db83e618cf"
  },
  {
   "cell_type": "markdown",
   "source": [
    "# Package"
   ],
   "metadata": {
    "collapsed": false
   },
   "id": "102130ac183f717a"
  },
  {
   "cell_type": "code",
   "execution_count": 1,
   "id": "initial_id",
   "metadata": {
    "collapsed": true,
    "ExecuteTime": {
     "end_time": "2023-09-13T01:12:23.700750188Z",
     "start_time": "2023-09-13T01:12:22.252428626Z"
    }
   },
   "outputs": [],
   "source": [
    "import torch "
   ]
  },
  {
   "cell_type": "markdown",
   "source": [
    "# Dữ liệu (data)"
   ],
   "metadata": {
    "collapsed": false
   },
   "id": "7745e5a553d24d88"
  },
  {
   "cell_type": "code",
   "execution_count": 6,
   "outputs": [
    {
     "data": {
      "text/plain": "(tensor([[1],\n         [2],\n         [3]]),\n tensor([[1.0000],\n         [1.4000],\n         [1.8000]]))"
     },
     "execution_count": 6,
     "metadata": {},
     "output_type": "execute_result"
    }
   ],
   "source": [
    "weight = 0.4\n",
    "bias = 0.6\n",
    "x = torch.arange(1, 4, 1).unsqueeze(1)\n",
    "y = weight * x  + bias\n",
    "x, y\n"
   ],
   "metadata": {
    "collapsed": false,
    "ExecuteTime": {
     "end_time": "2023-09-13T01:14:34.216791509Z",
     "start_time": "2023-09-13T01:14:34.203514292Z"
    }
   },
   "id": "6c2e66a9bac35ac9"
  },
  {
   "cell_type": "markdown",
   "source": [
    "# Phân chia dữ liệu để training và testing"
   ],
   "metadata": {
    "collapsed": false
   },
   "id": "c4a2835b13f9d713"
  },
  {
   "cell_type": "code",
   "execution_count": null,
   "outputs": [],
   "source": [
    "####"
   ],
   "metadata": {
    "collapsed": false
   },
   "id": "7855d3ddfeeb76a7"
  }
 ],
 "metadata": {
  "kernelspec": {
   "display_name": "Python 3",
   "language": "python",
   "name": "python3"
  },
  "language_info": {
   "codemirror_mode": {
    "name": "ipython",
    "version": 2
   },
   "file_extension": ".py",
   "mimetype": "text/x-python",
   "name": "python",
   "nbconvert_exporter": "python",
   "pygments_lexer": "ipython2",
   "version": "2.7.6"
  }
 },
 "nbformat": 4,
 "nbformat_minor": 5
}
