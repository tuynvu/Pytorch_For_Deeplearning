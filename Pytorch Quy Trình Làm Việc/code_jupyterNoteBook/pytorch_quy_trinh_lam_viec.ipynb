{
 "cells": [
  {
   "cell_type": "markdown",
   "source": [
    "# Pytorch quy trinh làm việc"
   ],
   "metadata": {
    "collapsed": false
   },
   "id": "a0b579db83e618cf"
  },
  {
   "cell_type": "markdown",
   "source": [
    "# Package"
   ],
   "metadata": {
    "collapsed": false
   },
   "id": "102130ac183f717a"
  },
  {
   "cell_type": "code",
   "execution_count": null,
   "id": "initial_id",
   "metadata": {
    "collapsed": true
   },
   "outputs": [],
   "source": [
    "import torch "
   ]
  },
  {
   "cell_type": "markdown",
   "source": [
    "# Dữ liệu (data)"
   ],
   "metadata": {
    "collapsed": false
   },
   "id": "7745e5a553d24d88"
  }
 ],
 "metadata": {
  "kernelspec": {
   "display_name": "Python 3",
   "language": "python",
   "name": "python3"
  },
  "language_info": {
   "codemirror_mode": {
    "name": "ipython",
    "version": 2
   },
   "file_extension": ".py",
   "mimetype": "text/x-python",
   "name": "python",
   "nbconvert_exporter": "python",
   "pygments_lexer": "ipython2",
   "version": "2.7.6"
  }
 },
 "nbformat": 4,
 "nbformat_minor": 5
}
