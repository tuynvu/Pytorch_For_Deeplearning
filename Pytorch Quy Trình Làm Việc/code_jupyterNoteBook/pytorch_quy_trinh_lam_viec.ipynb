{
 "cells": [
  {
   "cell_type": "markdown",
   "source": [
    "# Pytorch quy trinh làm việc"
   ],
   "metadata": {
    "collapsed": false
   },
   "id": "a0b579db83e618cf"
  },
  {
   "cell_type": "markdown",
   "source": [
    "# Package"
   ],
   "metadata": {
    "collapsed": false
   },
   "id": "102130ac183f717a"
  },
  {
   "cell_type": "code",
   "execution_count": 1,
   "id": "initial_id",
   "metadata": {
    "collapsed": true,
    "ExecuteTime": {
     "end_time": "2023-09-15T11:13:47.101773673Z",
     "start_time": "2023-09-15T11:13:45.978554084Z"
    }
   },
   "outputs": [],
   "source": [
    "import torch "
   ]
  },
  {
   "cell_type": "markdown",
   "source": [
    "# Dữ liệu (data)"
   ],
   "metadata": {
    "collapsed": false
   },
   "id": "7745e5a553d24d88"
  },
  {
   "cell_type": "code",
   "execution_count": 2,
   "outputs": [
    {
     "data": {
      "text/plain": "(tensor([[1],\n         [2],\n         [3]]),\n tensor([[1.0000],\n         [1.4000],\n         [1.8000]]))"
     },
     "execution_count": 2,
     "metadata": {},
     "output_type": "execute_result"
    }
   ],
   "source": [
    "weight = 0.4\n",
    "bias = 0.6\n",
    "x = torch.arange(1, 4, 1).unsqueeze(1)\n",
    "y = weight * x  + bias\n",
    "x, y\n"
   ],
   "metadata": {
    "collapsed": false,
    "ExecuteTime": {
     "end_time": "2023-09-15T11:13:47.103451570Z",
     "start_time": "2023-09-15T11:13:47.099250327Z"
    }
   },
   "id": "6c2e66a9bac35ac9"
  },
  {
   "cell_type": "markdown",
   "source": [
    "# Phân chia dữ liệu để training và testing"
   ],
   "metadata": {
    "collapsed": false
   },
   "id": "c4a2835b13f9d713"
  },
  {
   "cell_type": "code",
   "execution_count": 3,
   "outputs": [
    {
     "data": {
      "text/plain": "(tensor([[0.0000],\n         [0.0200],\n         [0.0400],\n         [0.0600],\n         [0.0800],\n         [0.1000],\n         [0.1200],\n         [0.1400],\n         [0.1600],\n         [0.1800],\n         [0.2000],\n         [0.2200],\n         [0.2400],\n         [0.2600],\n         [0.2800],\n         [0.3000],\n         [0.3200],\n         [0.3400],\n         [0.3600],\n         [0.3800],\n         [0.4000],\n         [0.4200],\n         [0.4400],\n         [0.4600],\n         [0.4800],\n         [0.5000],\n         [0.5200],\n         [0.5400],\n         [0.5600],\n         [0.5800],\n         [0.6000],\n         [0.6200],\n         [0.6400],\n         [0.6600],\n         [0.6800],\n         [0.7000],\n         [0.7200],\n         [0.7400],\n         [0.7600],\n         [0.7800],\n         [0.8000],\n         [0.8200],\n         [0.8400],\n         [0.8600],\n         [0.8800],\n         [0.9000],\n         [0.9200],\n         [0.9400],\n         [0.9600],\n         [0.9800]]),\n tensor([[0.6000],\n         [0.6080],\n         [0.6160],\n         [0.6240],\n         [0.6320],\n         [0.6400],\n         [0.6480],\n         [0.6560],\n         [0.6640],\n         [0.6720],\n         [0.6800],\n         [0.6880],\n         [0.6960],\n         [0.7040],\n         [0.7120],\n         [0.7200],\n         [0.7280],\n         [0.7360],\n         [0.7440],\n         [0.7520],\n         [0.7600],\n         [0.7680],\n         [0.7760],\n         [0.7840],\n         [0.7920],\n         [0.8000],\n         [0.8080],\n         [0.8160],\n         [0.8240],\n         [0.8320],\n         [0.8400],\n         [0.8480],\n         [0.8560],\n         [0.8640],\n         [0.8720],\n         [0.8800],\n         [0.8880],\n         [0.8960],\n         [0.9040],\n         [0.9120],\n         [0.9200],\n         [0.9280],\n         [0.9360],\n         [0.9440],\n         [0.9520],\n         [0.9600],\n         [0.9680],\n         [0.9760],\n         [0.9840],\n         [0.9920]]))"
     },
     "execution_count": 3,
     "metadata": {},
     "output_type": "execute_result"
    }
   ],
   "source": [
    "weight = 0.4\n",
    "bias = 0.6\n",
    "x = torch.arange(0, 1, 0.02).unsqueeze(1)\n",
    "y = weight * x  + bias\n",
    "x, y"
   ],
   "metadata": {
    "collapsed": false,
    "ExecuteTime": {
     "end_time": "2023-09-15T11:13:47.103891828Z",
     "start_time": "2023-09-15T11:13:47.100180392Z"
    }
   },
   "id": "7855d3ddfeeb76a7"
  },
  {
   "cell_type": "code",
   "execution_count": 4,
   "outputs": [],
   "source": [
    "split_train = int(0.8 * len(x))\n",
    "train_x, test_x, train_y , test_y = x[:split_train], x[split_train:], y[:split_train], y[split_train:]\n",
    "\n",
    "len(train_x), len(train_y), len(test_x), len(test_x)\n",
    "predictions = weight * test_x + bias"
   ],
   "metadata": {
    "collapsed": false,
    "ExecuteTime": {
     "end_time": "2023-09-15T11:13:47.104013895Z",
     "start_time": "2023-09-15T11:13:47.100884550Z"
    }
   },
   "id": "ef43586b17f1434b"
  },
  {
   "cell_type": "code",
   "execution_count": 5,
   "outputs": [
    {
     "data": {
      "text/plain": "<Figure size 640x480 with 1 Axes>",
      "image/png": "[encoded data removed]"
     },
     "metadata": {},
     "output_type": "display_data"
    }
   ],
   "source": [
    "import matplotlib.pyplot as plt\n",
    "\n",
    "def plot_predict(data_x=train_x, data_y=train_y, data_test_x=test_x, data_test_y=test_y, predictions=None):\n",
    "    \n",
    "    plt.scatter(data_x, data_y, c=\"b\", s=4, label=\"train\")\n",
    "    plt.scatter(data_test_x, data_test_y, c=\"y\", s=20, label=\"test\")\n",
    "    if predictions is not None:\n",
    "        plt.scatter(data_test_x, predictions, s=4, c=\"g\", label=\"predictions\")\n",
    "        \n",
    "    plt.legend()\n",
    "    plt.show()\n",
    "\n",
    "plot_predict(predictions=predictions)\n",
    "    "
   ],
   "metadata": {
    "collapsed": false,
    "ExecuteTime": {
     "end_time": "2023-09-15T11:13:47.513932667Z",
     "start_time": "2023-09-15T11:13:47.101412115Z"
    }
   },
   "id": "fc481c404d12a541"
  },
  {
   "cell_type": "markdown",
   "source": [
    "# Xây Dựng model "
   ],
   "metadata": {
    "collapsed": false
   },
   "id": "85275040434f716"
  },
  {
   "cell_type": "code",
   "execution_count": 6,
   "outputs": [],
   "source": [
    "class LinearRegression(torch.nn.Module):\n",
    "    def __init__(self):\n",
    "        super(LinearRegression, self).__init__()\n",
    "        self.weight = torch.nn.Parameter(torch.randn(1, \n",
    "                                                     dtype=torch.float32), \n",
    "                                         requires_grad=True)\n",
    "        self.bias = torch.nn.Parameter(torch.randn(1, \n",
    "                                                   dtype=torch.float32),\n",
    "                                       requires_grad=True)\n",
    "        \n",
    "        \n",
    "    def forward(self, x: torch.Tensor) -> torch.Tensor:\n",
    "        return self.weight * x + self.bias\n",
    "        \n",
    "        "
   ],
   "metadata": {
    "collapsed": false,
    "ExecuteTime": {
     "end_time": "2023-09-15T11:13:47.518646229Z",
     "start_time": "2023-09-15T11:13:47.516406068Z"
    }
   },
   "id": "bb5f817a0f2998ee"
  },
  {
   "cell_type": "markdown",
   "source": [
    "# Điều cần thiết khi xậy dựng mô hình Pytorch"
   ],
   "metadata": {
    "collapsed": false
   },
   "id": "2e1a02b622c2781"
  },
  {
   "cell_type": "code",
   "execution_count": 7,
   "outputs": [],
   "source": [
    "# torch.nn\n",
    "# torch.nn.Parameter()\n",
    "# torch.autograd()\n",
    "# torch.nn.Module()\n",
    "# torch.optim()"
   ],
   "metadata": {
    "collapsed": false,
    "ExecuteTime": {
     "end_time": "2023-09-15T11:13:47.523020585Z",
     "start_time": "2023-09-15T11:13:47.518451459Z"
    }
   },
   "id": "e11de027fb1bca3b"
  },
  {
   "cell_type": "markdown",
   "source": [
    "# Kiểm tra nội dung của model Pytorch"
   ],
   "metadata": {
    "collapsed": false
   },
   "id": "468ea45181c78d37"
  },
  {
   "cell_type": "code",
   "execution_count": 8,
   "outputs": [
    {
     "name": "stdout",
     "output_type": "stream",
     "text": [
      "[Parameter containing:\n",
      "tensor([0.3367], requires_grad=True), Parameter containing:\n",
      "tensor([0.1288], requires_grad=True)]\n"
     ]
    }
   ],
   "source": [
    "torch.manual_seed(42)\n",
    "\n",
    "linear = LinearRegression()\n",
    "\n",
    "print(list(linear.parameters()))"
   ],
   "metadata": {
    "collapsed": false,
    "ExecuteTime": {
     "end_time": "2023-09-15T11:13:47.529616219Z",
     "start_time": "2023-09-15T11:13:47.523889923Z"
    }
   },
   "id": "3e075a1c7c1b4d"
  },
  {
   "cell_type": "code",
   "execution_count": 9,
   "outputs": [
    {
     "data": {
      "text/plain": "OrderedDict([('weight', tensor([0.3367])), ('bias', tensor([0.1288]))])"
     },
     "execution_count": 9,
     "metadata": {},
     "output_type": "execute_result"
    }
   ],
   "source": [
    "linear.state_dict()"
   ],
   "metadata": {
    "collapsed": false,
    "ExecuteTime": {
     "end_time": "2023-09-15T11:13:47.652648902Z",
     "start_time": "2023-09-15T11:13:47.574768606Z"
    }
   },
   "id": "dfabc75b7d024230"
  },
  {
   "cell_type": "markdown",
   "source": [
    "# Tạo dự đoán với torch.inference_mode()"
   ],
   "metadata": {
    "collapsed": false
   },
   "id": "f05905d443bbdc5"
  },
  {
   "cell_type": "code",
   "execution_count": 10,
   "outputs": [],
   "source": [
    "with torch.inference_mode():\n",
    "    y_preds = linear(test_x)"
   ],
   "metadata": {
    "collapsed": false,
    "ExecuteTime": {
     "end_time": "2023-09-15T11:13:47.653090063Z",
     "start_time": "2023-09-15T11:13:47.575282021Z"
    }
   },
   "id": "5743c45f6df6683b"
  },
  {
   "cell_type": "code",
   "execution_count": 11,
   "outputs": [
    {
     "name": "stdout",
     "output_type": "stream",
     "text": [
      "Number of testing samples: 10\n",
      "Number of predictions made: 10\n",
      "Predicted values:\n",
      "tensor([[0.3982],\n",
      "        [0.4049],\n",
      "        [0.4116],\n",
      "        [0.4184],\n",
      "        [0.4251],\n",
      "        [0.4318],\n",
      "        [0.4386],\n",
      "        [0.4453],\n",
      "        [0.4520],\n",
      "        [0.4588]])\n"
     ]
    }
   ],
   "source": [
    "print(f\"Number of testing samples: {len(test_x)}\") \n",
    "print(f\"Number of predictions made: {len(y_preds)}\")\n",
    "print(f\"Predicted values:\\n{y_preds}\")"
   ],
   "metadata": {
    "collapsed": false,
    "ExecuteTime": {
     "end_time": "2023-09-15T11:13:47.653554285Z",
     "start_time": "2023-09-15T11:13:47.575435044Z"
    }
   },
   "id": "dc82f0317283499"
  },
  {
   "cell_type": "code",
   "execution_count": 12,
   "outputs": [
    {
     "data": {
      "text/plain": "<Figure size 640x480 with 1 Axes>",
      "image/png": "[encoded data removed]"
     },
     "metadata": {},
     "output_type": "display_data"
    }
   ],
   "source": [
    "plot_predict(predictions=y_preds)"
   ],
   "metadata": {
    "collapsed": false,
    "ExecuteTime": {
     "end_time": "2023-09-15T11:13:47.723694172Z",
     "start_time": "2023-09-15T11:13:47.575613469Z"
    }
   },
   "id": "2de72ef8edd6b2a7"
  },
  {
   "cell_type": "code",
   "execution_count": 13,
   "outputs": [
    {
     "data": {
      "text/plain": "tensor([[0.5218],\n        [0.5231],\n        [0.5244],\n        [0.5256],\n        [0.5269],\n        [0.5282],\n        [0.5294],\n        [0.5307],\n        [0.5320],\n        [0.5332]])"
     },
     "execution_count": 13,
     "metadata": {},
     "output_type": "execute_result"
    }
   ],
   "source": [
    "test_y - y_preds"
   ],
   "metadata": {
    "collapsed": false,
    "ExecuteTime": {
     "end_time": "2023-09-15T11:13:47.724175565Z",
     "start_time": "2023-09-15T11:13:47.722371181Z"
    }
   },
   "id": "35d51864281cbc2e"
  },
  {
   "cell_type": "markdown",
   "source": [
    "# Training Model"
   ],
   "metadata": {
    "collapsed": false
   },
   "id": "bc5cac0446ac1113"
  },
  {
   "cell_type": "code",
   "execution_count": 14,
   "outputs": [],
   "source": [
    "### SuZeAI"
   ],
   "metadata": {
    "collapsed": false,
    "ExecuteTime": {
     "end_time": "2023-09-15T11:13:47.724313960Z",
     "start_time": "2023-09-15T11:13:47.722576458Z"
    }
   },
   "id": "b9fd46dac80d263a"
  },
  {
   "cell_type": "markdown",
   "source": [
    "# Tạo Hàm mất mát (loss) và tối ưu (optimize) trong pytorch"
   ],
   "metadata": {
    "collapsed": false
   },
   "id": "ce59141c80eb200"
  },
  {
   "cell_type": "code",
   "execution_count": 15,
   "outputs": [
    {
     "name": "stdout",
     "output_type": "stream",
     "text": [
      "L1Loss()\n",
      "SGD (\n",
      "Parameter Group 0\n",
      "    dampening: 0\n",
      "    differentiable: False\n",
      "    foreach: None\n",
      "    lr: 0.01\n",
      "    maximize: False\n",
      "    momentum: 0\n",
      "    nesterov: False\n",
      "    weight_decay: 0\n",
      ")\n"
     ]
    }
   ],
   "source": [
    "loss = torch.nn.L1Loss()\n",
    "optimizer = torch.optim.SGD(params=linear.parameters(), lr=0.01)\n",
    "print(loss)\n",
    "print(optimizer)"
   ],
   "metadata": {
    "collapsed": false,
    "ExecuteTime": {
     "end_time": "2023-09-15T11:13:47.724513111Z",
     "start_time": "2023-09-15T11:13:47.722637613Z"
    }
   },
   "id": "b2114ac6fe049e11"
  },
  {
   "cell_type": "markdown",
   "source": [
    "# Tạo vòng lặp tối ưu hóa trong Pytorch"
   ],
   "metadata": {
    "collapsed": false
   },
   "id": "daf9456000f7d8af"
  },
  {
   "cell_type": "code",
   "execution_count": null,
   "outputs": [],
   "source": [
    "### SuZeAI"
   ],
   "metadata": {
    "collapsed": false
   },
   "id": "9b01b329bd07871"
  },
  {
   "cell_type": "markdown",
   "source": [
    "# Pytorch train loop"
   ],
   "metadata": {
    "collapsed": false
   },
   "id": "a70275b229405800"
  },
  {
   "cell_type": "code",
   "execution_count": null,
   "outputs": [],
   "source": [
    "### SuZeAI\n",
    "# for epoch in range(epochs):\n",
    "#         model.train()\n",
    "#         y_pred = model(x_train)\n",
    "#         loss = loss_fn(y_pred, y_train)\n",
    "#         optimizer.zero_grad()\n",
    "#         loss.backward()\n",
    "#         optimizer.step()"
   ],
   "metadata": {
    "collapsed": false
   },
   "id": "a1c67be1a22335c3"
  },
  {
   "cell_type": "markdown",
   "source": [
    "# Pytorch test loop"
   ],
   "metadata": {
    "collapsed": false
   },
   "id": "bb50c453456dcdd6"
  },
  {
   "cell_type": "code",
   "execution_count": null,
   "outputs": [],
   "source": [
    "### SuZeAI"
   ],
   "metadata": {
    "collapsed": false
   },
   "id": "4881ecff5849087e"
  }
 ],
 "metadata": {
  "kernelspec": {
   "display_name": "Python 3",
   "language": "python",
   "name": "python3"
  },
  "language_info": {
   "codemirror_mode": {
    "name": "ipython",
    "version": 2
   },
   "file_extension": ".py",
   "mimetype": "text/x-python",
   "name": "python",
   "nbconvert_exporter": "python",
   "pygments_lexer": "ipython2",
   "version": "2.7.6"
  }
 },
 "nbformat": 4,
 "nbformat_minor": 5
}
